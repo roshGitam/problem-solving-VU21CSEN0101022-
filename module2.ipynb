{
  "nbformat": 4,
  "nbformat_minor": 0,
  "metadata": {
    "colab": {
      "name": "module2",
      "provenance": [],
      "collapsed_sections": [],
      "authorship_tag": "ABX9TyMXR6ZiXY42Un73ZAdI9mGf",
      "include_colab_link": true
    },
    "kernelspec": {
      "name": "python3",
      "display_name": "Python 3"
    },
    "language_info": {
      "name": "python"
    }
  },
  "cells": [
    {
      "cell_type": "markdown",
      "metadata": {
        "id": "view-in-github",
        "colab_type": "text"
      },
      "source": [
        "<a href=\"https://colab.research.google.com/github/roshGitam/problem-solving-VU21CSEN0101022-/blob/main/module2.ipynb\" target=\"_parent\"><img src=\"https://colab.research.google.com/assets/colab-badge.svg\" alt=\"Open In Colab\"/></a>"
      ]
    },
    {
      "cell_type": "markdown",
      "source": [
        "####Create a function which accepts two inputs from the user and compute n\n",
        "Cr"
      ],
      "metadata": {
        "id": "gWTAM-Vao9Un"
      }
    },
    {
      "cell_type": "code",
      "execution_count": 6,
      "metadata": {
        "colab": {
          "base_uri": "https://localhost:8080/"
        },
        "id": "Le6leZXlo1JG",
        "outputId": "b0caa223-277b-4cba-b3fb-85b0c1962fc6"
      },
      "outputs": [
        {
          "output_type": "stream",
          "name": "stdout",
          "text": [
            "5\n",
            "2\n",
            "10\n"
          ]
        }
      ],
      "source": [
        "def nCr(a,b):\n",
        "  return(fact(a))/(fact(b)*fact(a-b))\n",
        "a=int(input(\"\"))\n",
        "b=int(input(\"\"))\n",
        "def fact(a):\n",
        "  res=1\n",
        "  for i in range(2,a+1):\n",
        "    res =res*i\n",
        "  return res\n",
        "print(int(nCr(a,b)))"
      ]
    },
    {
      "cell_type": "markdown",
      "source": [
        "####Program to print a specified list after removing the 0th, 4th and 5th elements.\n",
        "Sample List : ['Red', 'Green', 'White', 'Black', 'Pink', 'Yellow']\n",
        "Expected Output : ['Green', 'White', 'Black']"
      ],
      "metadata": {
        "id": "UJyWig0ltuYE"
      }
    },
    {
      "cell_type": "code",
      "source": [
        "colours=['Red', 'Green', 'White', 'Black', 'Pink', 'Yellow']\n",
        "colours.pop(0)\n",
        "colours.pop(4)\n",
        "colours.pop(-1)\n",
        "print(colours)\n",
        "\n"
      ],
      "metadata": {
        "colab": {
          "base_uri": "https://localhost:8080/"
        },
        "id": "uSBUNYWbuNrS",
        "outputId": "73cb2245-d33b-43cd-a4b9-35bf3964c3cc"
      },
      "execution_count": 7,
      "outputs": [
        {
          "output_type": "stream",
          "name": "stdout",
          "text": [
            "['Green', 'White', 'Black']\n"
          ]
        }
      ]
    }
  ]
}