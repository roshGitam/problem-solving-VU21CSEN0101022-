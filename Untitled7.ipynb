{
  "nbformat": 4,
  "nbformat_minor": 0,
  "metadata": {
    "colab": {
      "name": "Untitled7.ipynb",
      "provenance": [],
      "collapsed_sections": [],
      "authorship_tag": "ABX9TyPaJHaYEXN2xxbKG3TcYiLW",
      "include_colab_link": true
    },
    "kernelspec": {
      "name": "python3",
      "display_name": "Python 3"
    },
    "language_info": {
      "name": "python"
    }
  },
  "cells": [
    {
      "cell_type": "markdown",
      "metadata": {
        "id": "view-in-github",
        "colab_type": "text"
      },
      "source": [
        "<a href=\"https://colab.research.google.com/github/roshGitam/problem-solving-VU21CSEN0101022-/blob/main/Untitled7.ipynb\" target=\"_parent\"><img src=\"https://colab.research.google.com/assets/colab-badge.svg\" alt=\"Open In Colab\"/></a>"
      ]
    },
    {
      "cell_type": "markdown",
      "source": [
        "####Write a program to convert list of multiple integers into a singke integer"
      ],
      "metadata": {
        "id": "OPTaIVZyadLM"
      }
    },
    {
      "cell_type": "code",
      "execution_count": 1,
      "metadata": {
        "colab": {
          "base_uri": "https://localhost:8080/"
        },
        "id": "hMIUQyQ9aYbv",
        "outputId": "f9f61e00-67dc-4e29-bf73-652c9f4440bf"
      },
      "outputs": [
        {
          "output_type": "stream",
          "name": "stdout",
          "text": [
            "Original List:  [11, 33, 50]\n",
            "Single Integer:  113350\n"
          ]
        }
      ],
      "source": [
        "L = [11, 33, 50]\n",
        "print(\"Original List: \",L)\n",
        "x = int(\"\".join(map(str, L)))\n",
        "print(\"Single Integer: \",x)"
      ]
    },
    {
      "cell_type": "markdown",
      "source": [
        "####print the prime number between the range(25,50)"
      ],
      "metadata": {
        "id": "epaXWgEVa-rK"
      }
    },
    {
      "cell_type": "code",
      "source": [
        "def primt (a,b)\n",
        "\n",
        " for i in range(a,b+1):\n",
        "  k=0\n",
        "  for j in rang(2,i):\n",
        "    if 1%j==0\n",
        "      k+=1\n",
        "    if k==0:\n",
        "        print(i)\n",
        "l=int(input(\"enter number 1:\"))\n",
        "m=int(input(\"enter number 2:\"))\n",
        "\n"
      ],
      "metadata": {
        "id": "m6NNzC6bbVk6"
      },
      "execution_count": null,
      "outputs": []
    },
    {
      "cell_type": "code",
      "source": [
        "a=int(input(\"Enter month number:\"))\n",
        "b=[4,6,9,11]\n",
        "if a==2:\n",
        "        print(\"28/29\")\n",
        "elif a in b:\n",
        "            print(\"30\")\n",
        "elif a>=13 or a<1:\n",
        "                  print(\"Please enter correct choice\")\n",
        "else:\n",
        "    print(\"31\")\n",
        "\n"
      ],
      "metadata": {
        "colab": {
          "base_uri": "https://localhost:8080/"
        },
        "id": "-uLHW4_Le4pr",
        "outputId": "7fc96343-f0fe-4bdd-a7bb-ac687ef4103a"
      },
      "execution_count": 12,
      "outputs": [
        {
          "output_type": "stream",
          "name": "stdout",
          "text": [
            "Enter month number:2\n",
            "28/29\n"
          ]
        }
      ]
    },
    {
      "cell_type": "markdown",
      "source": [
        "####wrap to print event length in a string"
      ],
      "metadata": {
        "id": "nYtUq8ZOepKx"
      }
    },
    {
      "cell_type": "code",
      "source": [
        "a=input(\"enter a string:\")\n",
        "b=a.split()\n",
        "for i in b:\n",
        "  if len(i)%2==0:\n",
        "    print(i)"
      ],
      "metadata": {
        "colab": {
          "base_uri": "https://localhost:8080/"
        },
        "id": "TXidaFDhem97",
        "outputId": "d69d2b0e-b801-4055-9134-93fa2555c9c5"
      },
      "execution_count": 13,
      "outputs": [
        {
          "output_type": "stream",
          "name": "stdout",
          "text": [
            "enter a string:rosh\n",
            "rosh\n"
          ]
        }
      ]
    },
    {
      "cell_type": "markdown",
      "source": [
        "####Read a string from user and display the string with first characterof each word with capital letter\n",
        "\n"
      ],
      "metadata": {
        "id": "zQpdkCOEgd06"
      }
    },
    {
      "cell_type": "code",
      "source": [
        "a=input(\"Enter a string:\")\n",
        "a=a.title()\n",
        "pritn(a)"
      ],
      "metadata": {
        "id": "UaW2tFqGgc8z"
      },
      "execution_count": null,
      "outputs": []
    },
    {
      "cell_type": "code",
      "source": [
        ""
      ],
      "metadata": {
        "id": "Ni8SJkcnhg-d"
      },
      "execution_count": null,
      "outputs": []
    },
    {
      "cell_type": "markdown",
      "source": [
        "####coverting different integer into single integer"
      ],
      "metadata": {
        "id": "ivXnnMz7idRC"
      }
    },
    {
      "cell_type": "code",
      "source": [
        "a=eval(input(\"Enter list of integers:\"))\n",
        "b=\"\"\n",
        "for i in a:\n",
        "           b+=str(i)\n",
        "print(b)"
      ],
      "metadata": {
        "id": "gDBPdsCDi4W6"
      },
      "execution_count": null,
      "outputs": []
    }
  ]
}