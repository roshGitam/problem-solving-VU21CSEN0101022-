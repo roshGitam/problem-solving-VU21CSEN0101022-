{
  "nbformat": 4,
  "nbformat_minor": 0,
  "metadata": {
    "colab": {
      "name": "Untitled6.ipynb",
      "provenance": [],
      "collapsed_sections": [],
      "authorship_tag": "ABX9TyOm+v9l9cAtRmkYX9lMOue0",
      "include_colab_link": true
    },
    "kernelspec": {
      "name": "python3",
      "display_name": "Python 3"
    },
    "language_info": {
      "name": "python"
    }
  },
  "cells": [
    {
      "cell_type": "markdown",
      "metadata": {
        "id": "view-in-github",
        "colab_type": "text"
      },
      "source": [
        "<a href=\"https://colab.research.google.com/github/roshGitam/problem-solving-VU21CSEN0101022-/blob/main/Untitled6.ipynb\" target=\"_parent\"><img src=\"https://colab.research.google.com/assets/colab-badge.svg\" alt=\"Open In Colab\"/></a>"
      ]
    },
    {
      "cell_type": "markdown",
      "source": [
        "####python functions"
      ],
      "metadata": {
        "id": "fkxKqKkgP3O9"
      }
    },
    {
      "cell_type": "markdown",
      "source": [
        "######calling a function"
      ],
      "metadata": {
        "id": "MrCGHUw-QMz8"
      }
    },
    {
      "cell_type": "code",
      "execution_count": 2,
      "metadata": {
        "colab": {
          "base_uri": "https://localhost:8080/"
        },
        "id": "NXoTAbAFLWnn",
        "outputId": "8f1aa823-d1cd-40de-cc29-dc3c0917552b"
      },
      "outputs": [
        {
          "output_type": "stream",
          "name": "stdout",
          "text": [
            "the hindu\n"
          ]
        }
      ],
      "source": [
        "def roshini():\n",
        "  print(\"the hindu\")\n",
        "roshini()"
      ]
    },
    {
      "cell_type": "markdown",
      "source": [
        "####Arguments"
      ],
      "metadata": {
        "id": "iSIogMrYYzW0"
      }
    },
    {
      "cell_type": "code",
      "source": [
        "def roshini(kuppili):\n",
        "  print(kuppili+ \"happiness\")\n",
        "roshini(\"nandita\\t\")\n",
        "roshini(\"sravani\\t\")\n",
        "roshini(\"ish\\t\")\n"
      ],
      "metadata": {
        "colab": {
          "base_uri": "https://localhost:8080/"
        },
        "id": "Uk49uFLKVy7N",
        "outputId": "7a87b107-25e6-4e8e-b19c-50d1161bfe04"
      },
      "execution_count": 3,
      "outputs": [
        {
          "output_type": "stream",
          "name": "stdout",
          "text": [
            "nandita\thappiness\n",
            "sravani\thappiness\n",
            "ish\thappiness\n"
          ]
        }
      ]
    },
    {
      "cell_type": "markdown",
      "source": [
        "####number of arguments"
      ],
      "metadata": {
        "id": "y-9zMRqEY7sT"
      }
    },
    {
      "cell_type": "code",
      "source": [
        "def roshini(fname, lname):\n",
        "  print(fname+\" \"+ lname)\n",
        "roshini(\"kuppili\", \"rosh\")"
      ],
      "metadata": {
        "colab": {
          "base_uri": "https://localhost:8080/"
        },
        "id": "UqBdcSspXYUk",
        "outputId": "61ca2018-e63a-4b02-ede8-52576107ffed"
      },
      "execution_count": 5,
      "outputs": [
        {
          "output_type": "stream",
          "name": "stdout",
          "text": [
            "kuppili rosh\n"
          ]
        }
      ]
    },
    {
      "cell_type": "markdown",
      "source": [
        "####Arbitrary Arguments, *args"
      ],
      "metadata": {
        "id": "1XrJ2XJ5asx8"
      }
    },
    {
      "cell_type": "code",
      "source": [
        "def name(*chocolates):\n",
        "  print(\"my favourite chocolate is \" +chocolates[2])\n",
        "name(\"5star\", \"Diary milk\", \"Milky bar\")"
      ],
      "metadata": {
        "colab": {
          "base_uri": "https://localhost:8080/"
        },
        "id": "mN4kylpCY_gr",
        "outputId": "2ddc8e5f-38cb-479c-8985-5b92e9695d97"
      },
      "execution_count": 15,
      "outputs": [
        {
          "output_type": "stream",
          "name": "stdout",
          "text": [
            "my favourite chocolate is Milky bar\n"
          ]
        }
      ]
    },
    {
      "cell_type": "markdown",
      "source": [
        "####Keyword Arguments"
      ],
      "metadata": {
        "id": "ROnHk9nHawUK"
      }
    },
    {
      "cell_type": "code",
      "source": [
        "def name(she, he, they):\n",
        "  print(\"The youngest member is\"+\" \" + they)\n",
        "name(she = \"nandita\", he = \"sravani\", they = \"ish\")"
      ],
      "metadata": {
        "colab": {
          "base_uri": "https://localhost:8080/"
        },
        "id": "xSQIDpV0a0vq",
        "outputId": "1d309803-0512-4008-ac15-faee203fa726"
      },
      "execution_count": 18,
      "outputs": [
        {
          "output_type": "stream",
          "name": "stdout",
          "text": [
            "The youngest member is ish\n"
          ]
        }
      ]
    },
    {
      "cell_type": "markdown",
      "source": [
        "####Arbitrary Keyword Arguments, **kwargs\n"
      ],
      "metadata": {
        "id": "_upjUz1dcfTy"
      }
    },
    {
      "cell_type": "code",
      "source": [
        ""
      ],
      "metadata": {
        "id": "Pq4WeDYZchsC"
      },
      "execution_count": null,
      "outputs": []
    }
  ]
}